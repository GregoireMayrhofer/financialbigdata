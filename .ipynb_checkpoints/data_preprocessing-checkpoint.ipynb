{
 "cells": [
  {
   "cell_type": "code",
   "execution_count": null,
   "metadata": {
    "collapsed": true
   },
   "outputs": [],
   "source": [
    "import numpy as np \n",
    "import pandas as pd\n",
    "import matplotlib.pyplot as plt\n",
    "\n",
    "#This code loads the totalReturns.csv file, \n",
    "#which has the dates in the first column,\n",
    "#the data (in index level) for the four asset classes in columns 2 to 5\n",
    "#and the risk-free rate (1-month T-bill rate) in column 6. \n",
    "S=pd.read_csv('totalReturns.csv',delimiter=',',index_col='Date')\n",
    "S = S.drop('Unnamed: 6',1)\n",
    "\n",
    "#compute returns\n",
    "ret= S.pct_change(1) #take one month before in order to be able to calculate the first return\n",
    "ret = ret.drop('1M T-bill rate',1)\n",
    "Rf = S.iloc[:,-1].shift(1)/12 \n",
    "Rf = Rf.drop(Rf.index[[0]])\n",
    "ret = ret.drop(ret.index[[0]])\n",
    "\n",
    "#compute portfolio weights\n",
    "roll_mean = ret.rolling(window=120,min_periods=120).mean() #rolling window = 12 month * 10 years of data to define returns of each portfolios\n",
    "roll_std = ret.rolling(window=120,min_periods=120).std()\n",
    "roll_cov = ret.rolling(window=120,min_periods=120).cov()\n",
    "roll_Rf = Rf.rolling(window=120,min_periods=120).mean()"
   ]
  }
 ],
 "metadata": {
  "kernelspec": {
   "display_name": "Python 3",
   "language": "python",
   "name": "python3"
  },
  "language_info": {
   "codemirror_mode": {
    "name": "ipython",
    "version": 3
   },
   "file_extension": ".py",
   "mimetype": "text/x-python",
   "name": "python",
   "nbconvert_exporter": "python",
   "pygments_lexer": "ipython3",
   "version": "3.6.3"
  }
 },
 "nbformat": 4,
 "nbformat_minor": 2
}
